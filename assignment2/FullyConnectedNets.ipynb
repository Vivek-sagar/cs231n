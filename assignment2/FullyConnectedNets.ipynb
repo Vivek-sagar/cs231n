{
 "cells": [
  {
   "cell_type": "markdown",
   "metadata": {
    "nbpresent": {
     "id": "692b405a-f101-4955-b627-4771b21600da"
    },
    "tags": [
     "pdf-title"
    ]
   },
   "source": [
    "# Fully-Connected Neural Nets\n",
    "In the previous homework you implemented a fully-connected two-layer neural network on CIFAR-10. The implementation was simple but not very modular since the loss and gradient were computed in a single monolithic function. This is manageable for a simple two-layer network, but would become impractical as we move to bigger models. Ideally we want to build networks using a more modular design so that we can implement different layer types in isolation and then snap them together into models with different architectures."
   ]
  },
  {
   "cell_type": "markdown",
   "metadata": {
    "nbpresent": {
     "id": "79891be4-bb95-47bd-a38d-94f2b3fb2f57"
    },
    "tags": [
     "pdf-ignore"
    ]
   },
   "source": [
    "In this exercise we will implement fully-connected networks using a more modular approach. For each layer we will implement a `forward` and a `backward` function. The `forward` function will receive inputs, weights, and other parameters and will return both an output and a `cache` object storing data needed for the backward pass, like this:\n",
    "\n",
    "```python\n",
    "def layer_forward(x, w):\n",
    "  \"\"\" Receive inputs x and weights w \"\"\"\n",
    "  # Do some computations ...\n",
    "  z = # ... some intermediate value\n",
    "  # Do some more computations ...\n",
    "  out = # the output\n",
    "   \n",
    "  cache = (x, w, z, out) # Values we need to compute gradients\n",
    "   \n",
    "  return out, cache\n",
    "```\n",
    "\n",
    "The backward pass will receive upstream derivatives and the `cache` object, and will return gradients with respect to the inputs and weights, like this:\n",
    "\n",
    "```python\n",
    "def layer_backward(dout, cache):\n",
    "  \"\"\"\n",
    "  Receive dout (derivative of loss with respect to outputs) and cache,\n",
    "  and compute derivative with respect to inputs.\n",
    "  \"\"\"\n",
    "  # Unpack cache values\n",
    "  x, w, z, out = cache\n",
    "  \n",
    "  # Use values in cache to compute derivatives\n",
    "  dx = # Derivative of loss with respect to x\n",
    "  dw = # Derivative of loss with respect to w\n",
    "  \n",
    "  return dx, dw\n",
    "```\n",
    "\n",
    "After implementing a bunch of layers this way, we will be able to easily combine them to build classifiers with different architectures.\n",
    "\n",
    "In addition to implementing fully-connected networks of arbitrary depth, we will also explore different update rules for optimization, and introduce Dropout as a regularizer and Batch/Layer Normalization as a tool to more efficiently optimize deep networks.\n",
    "  "
   ]
  },
  {
   "cell_type": "code",
   "execution_count": 1,
   "metadata": {
    "nbpresent": {
     "id": "826b5610-d2c6-4284-8164-687ef2717999"
    },
    "tags": [
     "pdf-ignore"
    ]
   },
   "outputs": [],
   "source": [
    "# As usual, a bit of setup\n",
    "from __future__ import print_function\n",
    "import time\n",
    "import numpy as np\n",
    "import matplotlib.pyplot as plt\n",
    "from cs231n.classifiers.fc_net import *\n",
    "from cs231n.data_utils import get_CIFAR10_data\n",
    "from cs231n.gradient_check import eval_numerical_gradient, eval_numerical_gradient_array\n",
    "from cs231n.solver import Solver\n",
    "\n",
    "%matplotlib inline\n",
    "plt.rcParams['figure.figsize'] = (10.0, 8.0) # set default size of plots\n",
    "plt.rcParams['image.interpolation'] = 'nearest'\n",
    "plt.rcParams['image.cmap'] = 'gray'\n",
    "\n",
    "# for auto-reloading external modules\n",
    "# see http://stackoverflow.com/questions/1907993/autoreload-of-modules-in-ipython\n",
    "%load_ext autoreload\n",
    "%autoreload 2\n",
    "\n",
    "def rel_error(x, y):\n",
    "  \"\"\" returns relative error \"\"\"\n",
    "  return np.max(np.abs(x - y) / (np.maximum(1e-8, np.abs(x) + np.abs(y))))"
   ]
  },
  {
   "cell_type": "code",
   "execution_count": 2,
   "metadata": {
    "nbpresent": {
     "id": "406464e7-26f6-477c-a461-1cab410ae2fc"
    },
    "tags": [
     "pdf-ignore"
    ]
   },
   "outputs": [
    {
     "name": "stdout",
     "output_type": "stream",
     "text": [
      "('X_train: ', (49000, 3, 32, 32))\n",
      "('y_train: ', (49000,))\n",
      "('X_val: ', (1000, 3, 32, 32))\n",
      "('y_val: ', (1000,))\n",
      "('X_test: ', (1000, 3, 32, 32))\n",
      "('y_test: ', (1000,))\n"
     ]
    }
   ],
   "source": [
    "# Load the (preprocessed) CIFAR10 data.\n",
    "\n",
    "data = get_CIFAR10_data()\n",
    "for k, v in list(data.items()):\n",
    "  print(('%s: ' % k, v.shape))"
   ]
  },
  {
   "cell_type": "markdown",
   "metadata": {
    "nbpresent": {
     "id": "47d7332f-803f-47a3-b2ff-45a87d92b333"
    }
   },
   "source": [
    "# Affine layer: foward\n",
    "Open the file `cs231n/layers.py` and implement the `affine_forward` function.\n",
    "\n",
    "Once you are done you can test your implementaion by running the following:"
   ]
  },
  {
   "cell_type": "code",
   "execution_count": 7,
   "metadata": {
    "nbpresent": {
     "id": "114b11a6-5f40-431d-85dc-86e2c3a4bb45"
    },
    "scrolled": true
   },
   "outputs": [
    {
     "name": "stdout",
     "output_type": "stream",
     "text": [
      "Testing affine_forward function:\n",
      "difference:  9.769847728806635e-10\n"
     ]
    }
   ],
   "source": [
    "# Test the affine_forward function\n",
    "\n",
    "num_inputs = 2\n",
    "input_shape = (4, 5, 6)\n",
    "output_dim = 3\n",
    "\n",
    "input_size = num_inputs * np.prod(input_shape)\n",
    "weight_size = output_dim * np.prod(input_shape)\n",
    "\n",
    "x = np.linspace(-0.1, 0.5, num=input_size).reshape(num_inputs, *input_shape)\n",
    "w = np.linspace(-0.2, 0.3, num=weight_size).reshape(np.prod(input_shape), output_dim)\n",
    "b = np.linspace(-0.3, 0.1, num=output_dim)\n",
    "\n",
    "out, _ = affine_forward(x, w, b)\n",
    "correct_out = np.array([[ 1.49834967,  1.70660132,  1.91485297],\n",
    "                        [ 3.25553199,  3.5141327,   3.77273342]])\n",
    "\n",
    "# Compare your output with ours. The error should be around e-9 or less.\n",
    "print('Testing affine_forward function:')\n",
    "print('difference: ', rel_error(out, correct_out))"
   ]
  },
  {
   "cell_type": "markdown",
   "metadata": {
    "nbpresent": {
     "id": "c4234b58-ee26-44f8-a4f8-e48418762d6d"
    }
   },
   "source": [
    "# Affine layer: backward\n",
    "Now implement the `affine_backward` function and test your implementation using numeric gradient checking."
   ]
  },
  {
   "cell_type": "code",
   "execution_count": 8,
   "metadata": {
    "nbpresent": {
     "id": "3199256d-0010-42ac-93d3-e73b5efd07e2"
    },
    "scrolled": false
   },
   "outputs": [
    {
     "name": "stdout",
     "output_type": "stream",
     "text": [
      "Testing affine_backward function:\n",
      "dx error:  5.399100368651805e-11\n",
      "dw error:  9.904211865398145e-11\n",
      "db error:  2.4122867568119087e-11\n"
     ]
    }
   ],
   "source": [
    "# Test the affine_backward function\n",
    "np.random.seed(231)\n",
    "x = np.random.randn(10, 2, 3)\n",
    "w = np.random.randn(6, 5)\n",
    "b = np.random.randn(5)\n",
    "dout = np.random.randn(10, 5)\n",
    "\n",
    "dx_num = eval_numerical_gradient_array(lambda x: affine_forward(x, w, b)[0], x, dout)\n",
    "dw_num = eval_numerical_gradient_array(lambda w: affine_forward(x, w, b)[0], w, dout)\n",
    "db_num = eval_numerical_gradient_array(lambda b: affine_forward(x, w, b)[0], b, dout)\n",
    "\n",
    "_, cache = affine_forward(x, w, b)\n",
    "dx, dw, db = affine_backward(dout, cache)\n",
    "\n",
    "# The error should be around e-10 or less\n",
    "print('Testing affine_backward function:')\n",
    "print('dx error: ', rel_error(dx_num, dx))\n",
    "print('dw error: ', rel_error(dw_num, dw))\n",
    "print('db error: ', rel_error(db_num, db))"
   ]
  },
  {
   "cell_type": "markdown",
   "metadata": {
    "nbpresent": {
     "id": "903d9be2-404e-4885-9a01-7b409ec8d176"
    }
   },
   "source": [
    "# ReLU activation: forward\n",
    "Implement the forward pass for the ReLU activation function in the `relu_forward` function and test your implementation using the following:"
   ]
  },
  {
   "cell_type": "code",
   "execution_count": 9,
   "metadata": {
    "nbpresent": {
     "id": "db6ef3a3-24a2-47fb-8f95-2058e98e9a51"
    }
   },
   "outputs": [
    {
     "name": "stdout",
     "output_type": "stream",
     "text": [
      "Testing relu_forward function:\n",
      "difference:  4.999999798022158e-08\n"
     ]
    }
   ],
   "source": [
    "# Test the relu_forward function\n",
    "\n",
    "x = np.linspace(-0.5, 0.5, num=12).reshape(3, 4)\n",
    "\n",
    "out, _ = relu_forward(x)\n",
    "correct_out = np.array([[ 0.,          0.,          0.,          0.,        ],\n",
    "                        [ 0.,          0.,          0.04545455,  0.13636364,],\n",
    "                        [ 0.22727273,  0.31818182,  0.40909091,  0.5,       ]])\n",
    "\n",
    "# Compare your output with ours. The error should be on the order of e-8\n",
    "print('Testing relu_forward function:')\n",
    "print('difference: ', rel_error(out, correct_out))"
   ]
  },
  {
   "cell_type": "markdown",
   "metadata": {
    "nbpresent": {
     "id": "30802f9f-fcf8-407c-afe5-c807efad2b0c"
    }
   },
   "source": [
    "# ReLU activation: backward\n",
    "Now implement the backward pass for the ReLU activation function in the `relu_backward` function and test your implementation using numeric gradient checking:"
   ]
  },
  {
   "cell_type": "code",
   "execution_count": 10,
   "metadata": {
    "nbpresent": {
     "id": "32960dc1-a53c-40e5-986e-2148e8c8a80c"
    }
   },
   "outputs": [
    {
     "name": "stdout",
     "output_type": "stream",
     "text": [
      "Testing relu_backward function:\n",
      "dx error:  3.2756349136310288e-12\n"
     ]
    }
   ],
   "source": [
    "np.random.seed(231)\n",
    "x = np.random.randn(10, 10)\n",
    "dout = np.random.randn(*x.shape)\n",
    "\n",
    "dx_num = eval_numerical_gradient_array(lambda x: relu_forward(x)[0], x, dout)\n",
    "\n",
    "_, cache = relu_forward(x)\n",
    "dx = relu_backward(dout, cache)\n",
    "\n",
    "# The error should be on the order of e-12\n",
    "print('Testing relu_backward function:')\n",
    "print('dx error: ', rel_error(dx_num, dx))"
   ]
  },
  {
   "cell_type": "markdown",
   "metadata": {
    "nbpresent": {
     "id": "b6b46ab7-d668-4040-9507-75150e558841"
    },
    "tags": [
     "pdf-inline"
    ]
   },
   "source": [
    "## Inline Question 1: \n",
    "\n",
    "We've only asked you to implement ReLU, but there are a number of different activation functions that one could use in neural networks, each with its pros and cons. In particular, an issue commonly seen with activation functions is getting zero (or close to zero) gradient flow during backpropagation. Which of the following activation functions have this problem? If you consider these functions in the one dimensional case, what types of input would lead to this behaviour?\n",
    "1. Sigmoid\n",
    "2. ReLU\n",
    "3. Leaky ReLU\n",
    "\n",
    "## Answer:\n",
    "1. Yes\n",
    "2. Yes with negative values\n",
    "3. No\n"
   ]
  },
  {
   "cell_type": "markdown",
   "metadata": {
    "nbpresent": {
     "id": "50769717-380d-43e1-8d66-0b2b55457792"
    }
   },
   "source": [
    "# \"Sandwich\" layers\n",
    "There are some common patterns of layers that are frequently used in neural nets. For example, affine layers are frequently followed by a ReLU nonlinearity. To make these common patterns easy, we define several convenience layers in the file `cs231n/layer_utils.py`.\n",
    "\n",
    "For now take a look at the `affine_relu_forward` and `affine_relu_backward` functions, and run the following to numerically gradient check the backward pass:"
   ]
  },
  {
   "cell_type": "code",
   "execution_count": 11,
   "metadata": {
    "nbpresent": {
     "id": "c4fc290b-0f02-4bc2-a943-4faf37e44f46"
    }
   },
   "outputs": [
    {
     "name": "stdout",
     "output_type": "stream",
     "text": [
      "Testing affine_relu_forward and affine_relu_backward:\n",
      "dx error:  6.750562121603446e-11\n",
      "dw error:  8.162015570444288e-11\n",
      "db error:  7.826724021458994e-12\n"
     ]
    }
   ],
   "source": [
    "from cs231n.layer_utils import affine_relu_forward, affine_relu_backward\n",
    "np.random.seed(231)\n",
    "x = np.random.randn(2, 3, 4)\n",
    "w = np.random.randn(12, 10)\n",
    "b = np.random.randn(10)\n",
    "dout = np.random.randn(2, 10)\n",
    "\n",
    "out, cache = affine_relu_forward(x, w, b)\n",
    "dx, dw, db = affine_relu_backward(dout, cache)\n",
    "\n",
    "dx_num = eval_numerical_gradient_array(lambda x: affine_relu_forward(x, w, b)[0], x, dout)\n",
    "dw_num = eval_numerical_gradient_array(lambda w: affine_relu_forward(x, w, b)[0], w, dout)\n",
    "db_num = eval_numerical_gradient_array(lambda b: affine_relu_forward(x, w, b)[0], b, dout)\n",
    "\n",
    "# Relative error should be around e-10 or less\n",
    "print('Testing affine_relu_forward and affine_relu_backward:')\n",
    "print('dx error: ', rel_error(dx_num, dx))\n",
    "print('dw error: ', rel_error(dw_num, dw))\n",
    "print('db error: ', rel_error(db_num, db))"
   ]
  },
  {
   "cell_type": "markdown",
   "metadata": {
    "nbpresent": {
     "id": "b0cf6dfa-d538-4b7e-9c25-7d0d0407c3ec"
    }
   },
   "source": [
    "# Loss layers: Softmax and SVM\n",
    "You implemented these loss functions in the last assignment, so we'll give them to you for free here. You should still make sure you understand how they work by looking at the implementations in `cs231n/layers.py`.\n",
    "\n",
    "You can make sure that the implementations are correct by running the following:"
   ]
  },
  {
   "cell_type": "code",
   "execution_count": 12,
   "metadata": {
    "nbpresent": {
     "id": "2aaf1712-ef6b-48bc-937c-29ac5edade1b"
    }
   },
   "outputs": [
    {
     "name": "stdout",
     "output_type": "stream",
     "text": [
      "Testing svm_loss:\n",
      "loss:  8.999602749096233\n",
      "dx error:  1.4021566006651672e-09\n",
      "\n",
      "Testing softmax_loss:\n",
      "loss:  2.302545844500738\n",
      "dx error:  9.384673161989355e-09\n"
     ]
    }
   ],
   "source": [
    "np.random.seed(231)\n",
    "num_classes, num_inputs = 10, 50\n",
    "x = 0.001 * np.random.randn(num_inputs, num_classes)\n",
    "y = np.random.randint(num_classes, size=num_inputs)\n",
    "\n",
    "dx_num = eval_numerical_gradient(lambda x: svm_loss(x, y)[0], x, verbose=False)\n",
    "loss, dx = svm_loss(x, y)\n",
    "\n",
    "# Test svm_loss function. Loss should be around 9 and dx error should be around the order of e-9\n",
    "print('Testing svm_loss:')\n",
    "print('loss: ', loss)\n",
    "print('dx error: ', rel_error(dx_num, dx))\n",
    "\n",
    "dx_num = eval_numerical_gradient(lambda x: softmax_loss(x, y)[0], x, verbose=False)\n",
    "loss, dx = softmax_loss(x, y)\n",
    "\n",
    "# Test softmax_loss function. Loss should be close to 2.3 and dx error should be around e-8\n",
    "print('\\nTesting softmax_loss:')\n",
    "print('loss: ', loss)\n",
    "print('dx error: ', rel_error(dx_num, dx))"
   ]
  },
  {
   "cell_type": "markdown",
   "metadata": {
    "nbpresent": {
     "id": "c5757389-0310-4000-9561-e7b7a832bb7e"
    }
   },
   "source": [
    "# Two-layer network\n",
    "In the previous assignment you implemented a two-layer neural network in a single monolithic class. Now that you have implemented modular versions of the necessary layers, you will reimplement the two layer network using these modular implementations.\n",
    "\n",
    "Open the file `cs231n/classifiers/fc_net.py` and complete the implementation of the `TwoLayerNet` class. This class will serve as a model for the other networks you will implement in this assignment, so read through it to make sure you understand the API. You can run the cell below to test your implementation."
   ]
  },
  {
   "cell_type": "code",
   "execution_count": 13,
   "metadata": {
    "nbpresent": {
     "id": "bd94d7a4-47a3-4499-87f4-eb8f544892dc"
    },
    "scrolled": false
   },
   "outputs": [
    {
     "name": "stdout",
     "output_type": "stream",
     "text": [
      "Testing initialization ... \n",
      "Testing test-time forward pass ... \n",
      "Testing training loss (no regularization)\n",
      "Running numeric gradient check with reg =  0.0\n",
      "W1 relative error: 1.22e-08\n",
      "W2 relative error: 3.48e-10\n",
      "b1 relative error: 6.55e-09\n",
      "b2 relative error: 4.33e-10\n",
      "Running numeric gradient check with reg =  0.7\n",
      "W1 relative error: 3.12e-07\n",
      "W2 relative error: 7.98e-08\n",
      "b1 relative error: 1.56e-08\n",
      "b2 relative error: 7.76e-10\n"
     ]
    }
   ],
   "source": [
    "np.random.seed(231)\n",
    "N, D, H, C = 3, 5, 50, 7\n",
    "X = np.random.randn(N, D)\n",
    "y = np.random.randint(C, size=N)\n",
    "\n",
    "std = 1e-3\n",
    "model = TwoLayerNet(input_dim=D, hidden_dim=H, num_classes=C, weight_scale=std)\n",
    "\n",
    "print('Testing initialization ... ')\n",
    "W1_std = abs(model.params['W1'].std() - std)\n",
    "b1 = model.params['b1']\n",
    "W2_std = abs(model.params['W2'].std() - std)\n",
    "b2 = model.params['b2']\n",
    "assert W1_std < std / 10, 'First layer weights do not seem right'\n",
    "assert np.all(b1 == 0), 'First layer biases do not seem right'\n",
    "assert W2_std < std / 10, 'Second layer weights do not seem right'\n",
    "assert np.all(b2 == 0), 'Second layer biases do not seem right'\n",
    "\n",
    "print('Testing test-time forward pass ... ')\n",
    "model.params['W1'] = np.linspace(-0.7, 0.3, num=D*H).reshape(D, H)\n",
    "model.params['b1'] = np.linspace(-0.1, 0.9, num=H)\n",
    "model.params['W2'] = np.linspace(-0.3, 0.4, num=H*C).reshape(H, C)\n",
    "model.params['b2'] = np.linspace(-0.9, 0.1, num=C)\n",
    "X = np.linspace(-5.5, 4.5, num=N*D).reshape(D, N).T\n",
    "scores = model.loss(X)\n",
    "correct_scores = np.asarray(\n",
    "  [[11.53165108,  12.2917344,   13.05181771,  13.81190102,  14.57198434, 15.33206765,  16.09215096],\n",
    "   [12.05769098,  12.74614105,  13.43459113,  14.1230412,   14.81149128, 15.49994135,  16.18839143],\n",
    "   [12.58373087,  13.20054771,  13.81736455,  14.43418138,  15.05099822, 15.66781506,  16.2846319 ]])\n",
    "scores_diff = np.abs(scores - correct_scores).sum()\n",
    "assert scores_diff < 1e-6, 'Problem with test-time forward pass'\n",
    "\n",
    "print('Testing training loss (no regularization)')\n",
    "y = np.asarray([0, 5, 1])\n",
    "loss, grads = model.loss(X, y)\n",
    "correct_loss = 3.4702243556\n",
    "assert abs(loss - correct_loss) < 1e-10, 'Problem with training-time loss'\n",
    "\n",
    "model.reg = 1.0\n",
    "loss, grads = model.loss(X, y)\n",
    "correct_loss = 26.5948426952\n",
    "assert abs(loss - correct_loss) < 1e-10, 'Problem with regularization loss'\n",
    "\n",
    "# Errors should be around e-7 or less\n",
    "for reg in [0.0, 0.7]:\n",
    "  print('Running numeric gradient check with reg = ', reg)\n",
    "  model.reg = reg\n",
    "  loss, grads = model.loss(X, y)\n",
    "\n",
    "  for name in sorted(grads):\n",
    "    f = lambda _: model.loss(X, y)[0]\n",
    "    grad_num = eval_numerical_gradient(f, model.params[name], verbose=False)\n",
    "    print('%s relative error: %.2e' % (name, rel_error(grad_num, grads[name])))"
   ]
  },
  {
   "cell_type": "markdown",
   "metadata": {
    "nbpresent": {
     "id": "e32a9063-c473-41d4-8788-9525da712404"
    }
   },
   "source": [
    "# Solver\n",
    "In the previous assignment, the logic for training models was coupled to the models themselves. Following a more modular design, for this assignment we have split the logic for training models into a separate class.\n",
    "\n",
    "Open the file `cs231n/solver.py` and read through it to familiarize yourself with the API. After doing so, use a `Solver` instance to train a `TwoLayerNet` that achieves at least `50%` accuracy on the validation set."
   ]
  },
  {
   "cell_type": "code",
   "execution_count": 14,
   "metadata": {
    "nbpresent": {
     "id": "58c94b70-1086-4a0e-877a-450a9afc5853"
    }
   },
   "outputs": [
    {
     "name": "stdout",
     "output_type": "stream",
     "text": [
      "(Iteration 1 / 4900) loss: 2.304060\n",
      "(Epoch 0 / 10) train acc: 0.116000; val_acc: 0.094000\n",
      "(Iteration 11 / 4900) loss: 2.252924\n",
      "(Iteration 21 / 4900) loss: 2.128607\n",
      "(Iteration 31 / 4900) loss: 2.033476\n",
      "(Iteration 41 / 4900) loss: 1.990910\n",
      "(Iteration 51 / 4900) loss: 2.043805\n",
      "(Iteration 61 / 4900) loss: 1.959265\n",
      "(Iteration 71 / 4900) loss: 1.921205\n",
      "(Iteration 81 / 4900) loss: 1.892495\n",
      "(Iteration 91 / 4900) loss: 1.768856\n",
      "(Iteration 101 / 4900) loss: 1.829613\n",
      "(Iteration 111 / 4900) loss: 1.683077\n",
      "(Iteration 121 / 4900) loss: 1.752042\n",
      "(Iteration 131 / 4900) loss: 1.703082\n",
      "(Iteration 141 / 4900) loss: 1.815607\n",
      "(Iteration 151 / 4900) loss: 1.669903\n",
      "(Iteration 161 / 4900) loss: 1.738107\n",
      "(Iteration 171 / 4900) loss: 1.604972\n",
      "(Iteration 181 / 4900) loss: 1.648884\n",
      "(Iteration 191 / 4900) loss: 1.638778\n",
      "(Iteration 201 / 4900) loss: 1.857390\n",
      "(Iteration 211 / 4900) loss: 1.678935\n",
      "(Iteration 221 / 4900) loss: 1.756143\n",
      "(Iteration 231 / 4900) loss: 1.643596\n",
      "(Iteration 241 / 4900) loss: 1.541258\n",
      "(Iteration 251 / 4900) loss: 1.438778\n",
      "(Iteration 261 / 4900) loss: 1.718157\n",
      "(Iteration 271 / 4900) loss: 1.667385\n",
      "(Iteration 281 / 4900) loss: 1.673117\n",
      "(Iteration 291 / 4900) loss: 1.648107\n",
      "(Iteration 301 / 4900) loss: 1.744448\n",
      "(Iteration 311 / 4900) loss: 1.564542\n",
      "(Iteration 321 / 4900) loss: 1.468176\n",
      "(Iteration 331 / 4900) loss: 1.456966\n",
      "(Iteration 341 / 4900) loss: 1.738916\n",
      "(Iteration 351 / 4900) loss: 1.692797\n",
      "(Iteration 361 / 4900) loss: 1.846269\n",
      "(Iteration 371 / 4900) loss: 1.721635\n",
      "(Iteration 381 / 4900) loss: 1.605864\n",
      "(Iteration 391 / 4900) loss: 1.569607\n",
      "(Iteration 401 / 4900) loss: 1.420187\n",
      "(Iteration 411 / 4900) loss: 1.678849\n",
      "(Iteration 421 / 4900) loss: 1.470442\n",
      "(Iteration 431 / 4900) loss: 1.538895\n",
      "(Iteration 441 / 4900) loss: 1.564820\n",
      "(Iteration 451 / 4900) loss: 1.629710\n",
      "(Iteration 461 / 4900) loss: 1.478026\n",
      "(Iteration 471 / 4900) loss: 1.474794\n",
      "(Iteration 481 / 4900) loss: 1.393539\n",
      "(Epoch 1 / 10) train acc: 0.407000; val_acc: 0.422000\n",
      "(Iteration 491 / 4900) loss: 1.614235\n",
      "(Iteration 501 / 4900) loss: 1.565913\n",
      "(Iteration 511 / 4900) loss: 1.365065\n",
      "(Iteration 521 / 4900) loss: 1.654902\n",
      "(Iteration 531 / 4900) loss: 1.597875\n",
      "(Iteration 541 / 4900) loss: 1.431995\n",
      "(Iteration 551 / 4900) loss: 1.543782\n",
      "(Iteration 561 / 4900) loss: 1.375291\n",
      "(Iteration 571 / 4900) loss: 1.529334\n",
      "(Iteration 581 / 4900) loss: 1.420562\n",
      "(Iteration 591 / 4900) loss: 1.623155\n",
      "(Iteration 601 / 4900) loss: 1.700510\n",
      "(Iteration 611 / 4900) loss: 1.467063\n",
      "(Iteration 621 / 4900) loss: 1.468580\n",
      "(Iteration 631 / 4900) loss: 1.388407\n",
      "(Iteration 641 / 4900) loss: 1.483004\n",
      "(Iteration 651 / 4900) loss: 1.498782\n",
      "(Iteration 661 / 4900) loss: 1.502158\n",
      "(Iteration 671 / 4900) loss: 1.252047\n",
      "(Iteration 681 / 4900) loss: 1.634372\n",
      "(Iteration 691 / 4900) loss: 1.599160\n",
      "(Iteration 701 / 4900) loss: 1.732213\n",
      "(Iteration 711 / 4900) loss: 1.591123\n",
      "(Iteration 721 / 4900) loss: 1.505084\n",
      "(Iteration 731 / 4900) loss: 1.732694\n",
      "(Iteration 741 / 4900) loss: 1.356827\n",
      "(Iteration 751 / 4900) loss: 1.621565\n",
      "(Iteration 761 / 4900) loss: 1.489404\n",
      "(Iteration 771 / 4900) loss: 1.521342\n",
      "(Iteration 781 / 4900) loss: 1.533572\n",
      "(Iteration 791 / 4900) loss: 1.578900\n",
      "(Iteration 801 / 4900) loss: 1.688361\n",
      "(Iteration 811 / 4900) loss: 1.580505\n",
      "(Iteration 821 / 4900) loss: 1.463152\n",
      "(Iteration 831 / 4900) loss: 1.621837\n",
      "(Iteration 841 / 4900) loss: 1.406929\n",
      "(Iteration 851 / 4900) loss: 1.749594\n",
      "(Iteration 861 / 4900) loss: 1.284356\n",
      "(Iteration 871 / 4900) loss: 1.569717\n",
      "(Iteration 881 / 4900) loss: 1.363287\n",
      "(Iteration 891 / 4900) loss: 1.466384\n",
      "(Iteration 901 / 4900) loss: 1.439529\n",
      "(Iteration 911 / 4900) loss: 1.273715\n",
      "(Iteration 921 / 4900) loss: 1.529121\n",
      "(Iteration 931 / 4900) loss: 1.527591\n",
      "(Iteration 941 / 4900) loss: 1.514076\n",
      "(Iteration 951 / 4900) loss: 1.378257\n",
      "(Iteration 961 / 4900) loss: 1.422061\n",
      "(Iteration 971 / 4900) loss: 1.486347\n",
      "(Epoch 2 / 10) train acc: 0.497000; val_acc: 0.468000\n",
      "(Iteration 981 / 4900) loss: 1.564482\n",
      "(Iteration 991 / 4900) loss: 1.450852\n",
      "(Iteration 1001 / 4900) loss: 1.385772\n",
      "(Iteration 1011 / 4900) loss: 1.421798\n",
      "(Iteration 1021 / 4900) loss: 1.543015\n",
      "(Iteration 1031 / 4900) loss: 1.484912\n",
      "(Iteration 1041 / 4900) loss: 1.370650\n",
      "(Iteration 1051 / 4900) loss: 1.284161\n",
      "(Iteration 1061 / 4900) loss: 1.651607\n",
      "(Iteration 1071 / 4900) loss: 1.502757\n",
      "(Iteration 1081 / 4900) loss: 1.374697\n",
      "(Iteration 1091 / 4900) loss: 1.373557\n",
      "(Iteration 1101 / 4900) loss: 1.278401\n",
      "(Iteration 1111 / 4900) loss: 1.477647\n",
      "(Iteration 1121 / 4900) loss: 1.636812\n",
      "(Iteration 1131 / 4900) loss: 1.524296\n",
      "(Iteration 1141 / 4900) loss: 1.365303\n",
      "(Iteration 1151 / 4900) loss: 1.275023\n",
      "(Iteration 1161 / 4900) loss: 1.333022\n",
      "(Iteration 1171 / 4900) loss: 1.437740\n",
      "(Iteration 1181 / 4900) loss: 1.471636\n",
      "(Iteration 1191 / 4900) loss: 1.284397\n",
      "(Iteration 1201 / 4900) loss: 1.641580\n",
      "(Iteration 1211 / 4900) loss: 1.566961\n",
      "(Iteration 1221 / 4900) loss: 1.514759\n",
      "(Iteration 1231 / 4900) loss: 1.485135\n",
      "(Iteration 1241 / 4900) loss: 1.454145\n",
      "(Iteration 1251 / 4900) loss: 1.468877\n",
      "(Iteration 1261 / 4900) loss: 1.680544\n",
      "(Iteration 1271 / 4900) loss: 1.313881\n",
      "(Iteration 1281 / 4900) loss: 1.461850\n",
      "(Iteration 1291 / 4900) loss: 1.416707\n",
      "(Iteration 1301 / 4900) loss: 1.438847\n",
      "(Iteration 1311 / 4900) loss: 1.281691\n",
      "(Iteration 1321 / 4900) loss: 1.459482\n",
      "(Iteration 1331 / 4900) loss: 1.359845\n",
      "(Iteration 1341 / 4900) loss: 1.363962\n",
      "(Iteration 1351 / 4900) loss: 1.452882\n",
      "(Iteration 1361 / 4900) loss: 1.354891\n",
      "(Iteration 1371 / 4900) loss: 1.415319\n",
      "(Iteration 1381 / 4900) loss: 1.323956\n",
      "(Iteration 1391 / 4900) loss: 1.537946\n",
      "(Iteration 1401 / 4900) loss: 1.172536\n",
      "(Iteration 1411 / 4900) loss: 1.516677\n",
      "(Iteration 1421 / 4900) loss: 1.361603\n",
      "(Iteration 1431 / 4900) loss: 1.482638\n",
      "(Iteration 1441 / 4900) loss: 1.399070\n",
      "(Iteration 1451 / 4900) loss: 1.659170\n",
      "(Iteration 1461 / 4900) loss: 1.130555\n",
      "(Epoch 3 / 10) train acc: 0.490000; val_acc: 0.466000\n",
      "(Iteration 1471 / 4900) loss: 1.339640\n",
      "(Iteration 1481 / 4900) loss: 1.314340\n",
      "(Iteration 1491 / 4900) loss: 1.361683\n",
      "(Iteration 1501 / 4900) loss: 1.346286\n",
      "(Iteration 1511 / 4900) loss: 1.330179\n",
      "(Iteration 1521 / 4900) loss: 1.341219\n",
      "(Iteration 1531 / 4900) loss: 1.467686\n",
      "(Iteration 1541 / 4900) loss: 1.276399\n",
      "(Iteration 1551 / 4900) loss: 1.318433\n",
      "(Iteration 1561 / 4900) loss: 1.037673\n",
      "(Iteration 1571 / 4900) loss: 1.552371\n",
      "(Iteration 1581 / 4900) loss: 1.383267\n",
      "(Iteration 1591 / 4900) loss: 1.405046\n",
      "(Iteration 1601 / 4900) loss: 1.268492\n",
      "(Iteration 1611 / 4900) loss: 1.347581\n",
      "(Iteration 1621 / 4900) loss: 1.346360\n",
      "(Iteration 1631 / 4900) loss: 1.445965\n",
      "(Iteration 1641 / 4900) loss: 1.215078\n",
      "(Iteration 1651 / 4900) loss: 1.280647\n",
      "(Iteration 1661 / 4900) loss: 1.281932\n",
      "(Iteration 1671 / 4900) loss: 1.358879\n",
      "(Iteration 1681 / 4900) loss: 1.325951\n",
      "(Iteration 1691 / 4900) loss: 1.366475\n",
      "(Iteration 1701 / 4900) loss: 1.318215\n",
      "(Iteration 1711 / 4900) loss: 1.407319\n",
      "(Iteration 1721 / 4900) loss: 1.166189\n",
      "(Iteration 1731 / 4900) loss: 1.267192\n",
      "(Iteration 1741 / 4900) loss: 1.321010\n",
      "(Iteration 1751 / 4900) loss: 1.284833\n",
      "(Iteration 1761 / 4900) loss: 1.600646\n",
      "(Iteration 1771 / 4900) loss: 1.658454\n",
      "(Iteration 1781 / 4900) loss: 1.258653\n",
      "(Iteration 1791 / 4900) loss: 1.412486\n",
      "(Iteration 1801 / 4900) loss: 1.395750\n",
      "(Iteration 1811 / 4900) loss: 1.362550\n",
      "(Iteration 1821 / 4900) loss: 1.259537\n",
      "(Iteration 1831 / 4900) loss: 1.544773\n",
      "(Iteration 1841 / 4900) loss: 1.376099\n",
      "(Iteration 1851 / 4900) loss: 1.502026\n",
      "(Iteration 1861 / 4900) loss: 1.224631\n",
      "(Iteration 1871 / 4900) loss: 1.340578\n",
      "(Iteration 1881 / 4900) loss: 1.220686\n",
      "(Iteration 1891 / 4900) loss: 1.415121\n",
      "(Iteration 1901 / 4900) loss: 1.338233\n",
      "(Iteration 1911 / 4900) loss: 1.324092\n",
      "(Iteration 1921 / 4900) loss: 1.305427\n",
      "(Iteration 1931 / 4900) loss: 1.412743\n",
      "(Iteration 1941 / 4900) loss: 1.105428\n",
      "(Iteration 1951 / 4900) loss: 1.206141\n",
      "(Epoch 4 / 10) train acc: 0.532000; val_acc: 0.497000\n",
      "(Iteration 1961 / 4900) loss: 1.476262\n",
      "(Iteration 1971 / 4900) loss: 1.161685\n",
      "(Iteration 1981 / 4900) loss: 1.189663\n",
      "(Iteration 1991 / 4900) loss: 1.377663\n",
      "(Iteration 2001 / 4900) loss: 1.343165\n",
      "(Iteration 2011 / 4900) loss: 1.395499\n",
      "(Iteration 2021 / 4900) loss: 1.446514\n",
      "(Iteration 2031 / 4900) loss: 1.262448\n",
      "(Iteration 2041 / 4900) loss: 1.169200\n",
      "(Iteration 2051 / 4900) loss: 1.178408\n"
     ]
    },
    {
     "name": "stdout",
     "output_type": "stream",
     "text": [
      "(Iteration 2061 / 4900) loss: 1.240483\n",
      "(Iteration 2071 / 4900) loss: 1.419556\n",
      "(Iteration 2081 / 4900) loss: 1.248255\n",
      "(Iteration 2091 / 4900) loss: 1.351517\n",
      "(Iteration 2101 / 4900) loss: 1.393173\n",
      "(Iteration 2111 / 4900) loss: 1.318314\n",
      "(Iteration 2121 / 4900) loss: 1.422863\n",
      "(Iteration 2131 / 4900) loss: 1.521881\n",
      "(Iteration 2141 / 4900) loss: 1.368482\n",
      "(Iteration 2151 / 4900) loss: 1.531255\n",
      "(Iteration 2161 / 4900) loss: 1.406973\n",
      "(Iteration 2171 / 4900) loss: 1.124164\n",
      "(Iteration 2181 / 4900) loss: 1.375444\n",
      "(Iteration 2191 / 4900) loss: 1.634358\n",
      "(Iteration 2201 / 4900) loss: 1.276734\n",
      "(Iteration 2211 / 4900) loss: 1.308192\n",
      "(Iteration 2221 / 4900) loss: 1.355505\n",
      "(Iteration 2231 / 4900) loss: 1.622576\n",
      "(Iteration 2241 / 4900) loss: 1.283258\n",
      "(Iteration 2251 / 4900) loss: 1.501897\n",
      "(Iteration 2261 / 4900) loss: 1.271564\n",
      "(Iteration 2271 / 4900) loss: 1.453883\n",
      "(Iteration 2281 / 4900) loss: 1.233417\n",
      "(Iteration 2291 / 4900) loss: 1.280706\n",
      "(Iteration 2301 / 4900) loss: 1.287951\n",
      "(Iteration 2311 / 4900) loss: 1.016877\n",
      "(Iteration 2321 / 4900) loss: 1.288109\n",
      "(Iteration 2331 / 4900) loss: 1.460930\n",
      "(Iteration 2341 / 4900) loss: 1.453925\n",
      "(Iteration 2351 / 4900) loss: 1.144856\n",
      "(Iteration 2361 / 4900) loss: 1.369104\n",
      "(Iteration 2371 / 4900) loss: 1.246453\n",
      "(Iteration 2381 / 4900) loss: 1.228421\n",
      "(Iteration 2391 / 4900) loss: 1.307029\n",
      "(Iteration 2401 / 4900) loss: 1.352778\n",
      "(Iteration 2411 / 4900) loss: 1.427211\n",
      "(Iteration 2421 / 4900) loss: 1.537291\n",
      "(Iteration 2431 / 4900) loss: 1.459068\n",
      "(Iteration 2441 / 4900) loss: 1.183405\n",
      "(Epoch 5 / 10) train acc: 0.525000; val_acc: 0.475000\n",
      "(Iteration 2451 / 4900) loss: 1.410255\n",
      "(Iteration 2461 / 4900) loss: 1.301669\n",
      "(Iteration 2471 / 4900) loss: 1.473736\n",
      "(Iteration 2481 / 4900) loss: 1.308059\n",
      "(Iteration 2491 / 4900) loss: 1.110096\n",
      "(Iteration 2501 / 4900) loss: 1.390234\n",
      "(Iteration 2511 / 4900) loss: 1.328424\n",
      "(Iteration 2521 / 4900) loss: 0.998216\n",
      "(Iteration 2531 / 4900) loss: 1.302124\n",
      "(Iteration 2541 / 4900) loss: 1.286892\n",
      "(Iteration 2551 / 4900) loss: 1.096685\n",
      "(Iteration 2561 / 4900) loss: 1.105841\n",
      "(Iteration 2571 / 4900) loss: 1.280432\n",
      "(Iteration 2581 / 4900) loss: 1.242059\n",
      "(Iteration 2591 / 4900) loss: 1.103994\n",
      "(Iteration 2601 / 4900) loss: 1.276361\n",
      "(Iteration 2611 / 4900) loss: 1.175312\n",
      "(Iteration 2621 / 4900) loss: 1.286535\n",
      "(Iteration 2631 / 4900) loss: 1.255470\n",
      "(Iteration 2641 / 4900) loss: 1.082059\n",
      "(Iteration 2651 / 4900) loss: 1.178434\n",
      "(Iteration 2661 / 4900) loss: 1.264175\n",
      "(Iteration 2671 / 4900) loss: 1.206602\n",
      "(Iteration 2681 / 4900) loss: 1.178876\n",
      "(Iteration 2691 / 4900) loss: 1.414236\n",
      "(Iteration 2701 / 4900) loss: 1.111768\n",
      "(Iteration 2711 / 4900) loss: 1.106935\n",
      "(Iteration 2721 / 4900) loss: 1.251727\n",
      "(Iteration 2731 / 4900) loss: 1.502144\n",
      "(Iteration 2741 / 4900) loss: 1.194782\n",
      "(Iteration 2751 / 4900) loss: 1.149582\n",
      "(Iteration 2761 / 4900) loss: 1.208722\n",
      "(Iteration 2771 / 4900) loss: 1.207334\n",
      "(Iteration 2781 / 4900) loss: 1.209769\n",
      "(Iteration 2791 / 4900) loss: 1.324507\n",
      "(Iteration 2801 / 4900) loss: 1.271688\n",
      "(Iteration 2811 / 4900) loss: 1.105997\n",
      "(Iteration 2821 / 4900) loss: 1.257194\n",
      "(Iteration 2831 / 4900) loss: 1.239072\n",
      "(Iteration 2841 / 4900) loss: 1.249633\n",
      "(Iteration 2851 / 4900) loss: 1.173968\n",
      "(Iteration 2861 / 4900) loss: 1.090046\n",
      "(Iteration 2871 / 4900) loss: 1.547979\n",
      "(Iteration 2881 / 4900) loss: 1.212988\n",
      "(Iteration 2891 / 4900) loss: 1.235603\n",
      "(Iteration 2901 / 4900) loss: 1.272039\n",
      "(Iteration 2911 / 4900) loss: 1.101957\n",
      "(Iteration 2921 / 4900) loss: 1.163669\n",
      "(Iteration 2931 / 4900) loss: 1.259441\n",
      "(Epoch 6 / 10) train acc: 0.546000; val_acc: 0.509000\n",
      "(Iteration 2941 / 4900) loss: 1.205408\n",
      "(Iteration 2951 / 4900) loss: 1.226790\n",
      "(Iteration 2961 / 4900) loss: 1.475359\n",
      "(Iteration 2971 / 4900) loss: 1.295834\n",
      "(Iteration 2981 / 4900) loss: 1.284163\n",
      "(Iteration 2991 / 4900) loss: 1.129771\n",
      "(Iteration 3001 / 4900) loss: 1.304489\n",
      "(Iteration 3011 / 4900) loss: 1.172198\n",
      "(Iteration 3021 / 4900) loss: 1.263709\n",
      "(Iteration 3031 / 4900) loss: 1.070006\n",
      "(Iteration 3041 / 4900) loss: 1.229922\n",
      "(Iteration 3051 / 4900) loss: 1.125749\n",
      "(Iteration 3061 / 4900) loss: 1.236687\n",
      "(Iteration 3071 / 4900) loss: 1.246287\n",
      "(Iteration 3081 / 4900) loss: 1.280761\n",
      "(Iteration 3091 / 4900) loss: 1.464341\n",
      "(Iteration 3101 / 4900) loss: 1.346667\n",
      "(Iteration 3111 / 4900) loss: 1.335004\n",
      "(Iteration 3121 / 4900) loss: 1.043408\n",
      "(Iteration 3131 / 4900) loss: 1.177777\n",
      "(Iteration 3141 / 4900) loss: 1.275866\n",
      "(Iteration 3151 / 4900) loss: 1.318812\n",
      "(Iteration 3161 / 4900) loss: 1.166380\n",
      "(Iteration 3171 / 4900) loss: 1.723000\n",
      "(Iteration 3181 / 4900) loss: 1.127812\n",
      "(Iteration 3191 / 4900) loss: 1.016646\n",
      "(Iteration 3201 / 4900) loss: 1.325510\n",
      "(Iteration 3211 / 4900) loss: 1.215476\n",
      "(Iteration 3221 / 4900) loss: 1.205742\n",
      "(Iteration 3231 / 4900) loss: 1.320851\n",
      "(Iteration 3241 / 4900) loss: 1.133327\n",
      "(Iteration 3251 / 4900) loss: 0.929229\n",
      "(Iteration 3261 / 4900) loss: 1.199822\n",
      "(Iteration 3271 / 4900) loss: 1.432754\n",
      "(Iteration 3281 / 4900) loss: 1.361767\n",
      "(Iteration 3291 / 4900) loss: 1.123138\n",
      "(Iteration 3301 / 4900) loss: 1.392728\n",
      "(Iteration 3311 / 4900) loss: 1.140538\n",
      "(Iteration 3321 / 4900) loss: 1.423937\n",
      "(Iteration 3331 / 4900) loss: 1.072233\n",
      "(Iteration 3341 / 4900) loss: 1.073060\n",
      "(Iteration 3351 / 4900) loss: 1.356538\n",
      "(Iteration 3361 / 4900) loss: 1.311944\n",
      "(Iteration 3371 / 4900) loss: 1.253767\n",
      "(Iteration 3381 / 4900) loss: 1.219533\n",
      "(Iteration 3391 / 4900) loss: 1.164555\n",
      "(Iteration 3401 / 4900) loss: 1.402001\n",
      "(Iteration 3411 / 4900) loss: 1.341657\n",
      "(Iteration 3421 / 4900) loss: 0.994822\n",
      "(Epoch 7 / 10) train acc: 0.567000; val_acc: 0.505000\n",
      "(Iteration 3431 / 4900) loss: 1.509036\n",
      "(Iteration 3441 / 4900) loss: 1.162131\n",
      "(Iteration 3451 / 4900) loss: 1.266199\n",
      "(Iteration 3461 / 4900) loss: 1.336721\n",
      "(Iteration 3471 / 4900) loss: 1.068322\n",
      "(Iteration 3481 / 4900) loss: 1.376344\n",
      "(Iteration 3491 / 4900) loss: 1.316661\n",
      "(Iteration 3501 / 4900) loss: 1.319024\n",
      "(Iteration 3511 / 4900) loss: 1.220392\n",
      "(Iteration 3521 / 4900) loss: 1.131774\n",
      "(Iteration 3531 / 4900) loss: 1.260745\n",
      "(Iteration 3541 / 4900) loss: 1.323519\n",
      "(Iteration 3551 / 4900) loss: 1.058473\n",
      "(Iteration 3561 / 4900) loss: 1.253020\n",
      "(Iteration 3571 / 4900) loss: 0.946523\n",
      "(Iteration 3581 / 4900) loss: 1.111437\n",
      "(Iteration 3591 / 4900) loss: 1.089825\n",
      "(Iteration 3601 / 4900) loss: 1.153287\n",
      "(Iteration 3611 / 4900) loss: 1.292141\n",
      "(Iteration 3621 / 4900) loss: 1.132045\n",
      "(Iteration 3631 / 4900) loss: 1.322482\n",
      "(Iteration 3641 / 4900) loss: 1.262537\n",
      "(Iteration 3651 / 4900) loss: 1.268931\n",
      "(Iteration 3661 / 4900) loss: 1.083123\n",
      "(Iteration 3671 / 4900) loss: 1.244861\n",
      "(Iteration 3681 / 4900) loss: 1.264254\n",
      "(Iteration 3691 / 4900) loss: 1.382628\n",
      "(Iteration 3701 / 4900) loss: 1.180922\n",
      "(Iteration 3711 / 4900) loss: 1.308393\n",
      "(Iteration 3721 / 4900) loss: 1.249128\n",
      "(Iteration 3731 / 4900) loss: 1.018599\n",
      "(Iteration 3741 / 4900) loss: 1.022085\n",
      "(Iteration 3751 / 4900) loss: 1.161104\n",
      "(Iteration 3761 / 4900) loss: 1.001748\n",
      "(Iteration 3771 / 4900) loss: 1.331842\n",
      "(Iteration 3781 / 4900) loss: 0.964233\n",
      "(Iteration 3791 / 4900) loss: 1.291845\n",
      "(Iteration 3801 / 4900) loss: 1.093164\n",
      "(Iteration 3811 / 4900) loss: 1.073281\n",
      "(Iteration 3821 / 4900) loss: 0.983977\n",
      "(Iteration 3831 / 4900) loss: 1.142666\n",
      "(Iteration 3841 / 4900) loss: 1.227515\n",
      "(Iteration 3851 / 4900) loss: 1.188674\n",
      "(Iteration 3861 / 4900) loss: 1.235423\n",
      "(Iteration 3871 / 4900) loss: 1.203564\n",
      "(Iteration 3881 / 4900) loss: 1.046939\n",
      "(Iteration 3891 / 4900) loss: 1.201194\n",
      "(Iteration 3901 / 4900) loss: 1.135902\n",
      "(Iteration 3911 / 4900) loss: 1.147423\n",
      "(Epoch 8 / 10) train acc: 0.568000; val_acc: 0.490000\n",
      "(Iteration 3921 / 4900) loss: 1.100150\n",
      "(Iteration 3931 / 4900) loss: 1.166723\n",
      "(Iteration 3941 / 4900) loss: 1.048611\n",
      "(Iteration 3951 / 4900) loss: 1.190327\n",
      "(Iteration 3961 / 4900) loss: 1.069779\n",
      "(Iteration 3971 / 4900) loss: 1.446316\n",
      "(Iteration 3981 / 4900) loss: 1.240363\n",
      "(Iteration 3991 / 4900) loss: 1.389558\n",
      "(Iteration 4001 / 4900) loss: 1.191735\n",
      "(Iteration 4011 / 4900) loss: 1.289055\n",
      "(Iteration 4021 / 4900) loss: 1.361208\n",
      "(Iteration 4031 / 4900) loss: 1.129492\n",
      "(Iteration 4041 / 4900) loss: 1.099307\n",
      "(Iteration 4051 / 4900) loss: 1.160090\n",
      "(Iteration 4061 / 4900) loss: 1.219363\n",
      "(Iteration 4071 / 4900) loss: 0.983482\n",
      "(Iteration 4081 / 4900) loss: 1.363952\n",
      "(Iteration 4091 / 4900) loss: 1.296973\n",
      "(Iteration 4101 / 4900) loss: 1.359396\n",
      "(Iteration 4111 / 4900) loss: 1.178364\n"
     ]
    },
    {
     "name": "stdout",
     "output_type": "stream",
     "text": [
      "(Iteration 4121 / 4900) loss: 1.482384\n",
      "(Iteration 4131 / 4900) loss: 1.197037\n",
      "(Iteration 4141 / 4900) loss: 1.403737\n",
      "(Iteration 4151 / 4900) loss: 1.122648\n",
      "(Iteration 4161 / 4900) loss: 1.062507\n",
      "(Iteration 4171 / 4900) loss: 1.114487\n",
      "(Iteration 4181 / 4900) loss: 1.432952\n",
      "(Iteration 4191 / 4900) loss: 0.977362\n",
      "(Iteration 4201 / 4900) loss: 1.227283\n",
      "(Iteration 4211 / 4900) loss: 1.288511\n",
      "(Iteration 4221 / 4900) loss: 1.011658\n",
      "(Iteration 4231 / 4900) loss: 1.082298\n",
      "(Iteration 4241 / 4900) loss: 1.073991\n",
      "(Iteration 4251 / 4900) loss: 1.243668\n",
      "(Iteration 4261 / 4900) loss: 0.945981\n",
      "(Iteration 4271 / 4900) loss: 1.140732\n",
      "(Iteration 4281 / 4900) loss: 1.487700\n",
      "(Iteration 4291 / 4900) loss: 1.111540\n",
      "(Iteration 4301 / 4900) loss: 1.024113\n",
      "(Iteration 4311 / 4900) loss: 0.999385\n",
      "(Iteration 4321 / 4900) loss: 1.116866\n",
      "(Iteration 4331 / 4900) loss: 1.110762\n",
      "(Iteration 4341 / 4900) loss: 1.008309\n",
      "(Iteration 4351 / 4900) loss: 1.164905\n",
      "(Iteration 4361 / 4900) loss: 1.256942\n",
      "(Iteration 4371 / 4900) loss: 1.025067\n",
      "(Iteration 4381 / 4900) loss: 1.095265\n",
      "(Iteration 4391 / 4900) loss: 1.123657\n",
      "(Iteration 4401 / 4900) loss: 1.327583\n",
      "(Epoch 9 / 10) train acc: 0.592000; val_acc: 0.504000\n",
      "(Iteration 4411 / 4900) loss: 1.131835\n",
      "(Iteration 4421 / 4900) loss: 0.903986\n",
      "(Iteration 4431 / 4900) loss: 1.121370\n",
      "(Iteration 4441 / 4900) loss: 1.066445\n",
      "(Iteration 4451 / 4900) loss: 1.118923\n",
      "(Iteration 4461 / 4900) loss: 1.148042\n",
      "(Iteration 4471 / 4900) loss: 1.366329\n",
      "(Iteration 4481 / 4900) loss: 0.917303\n",
      "(Iteration 4491 / 4900) loss: 1.057309\n",
      "(Iteration 4501 / 4900) loss: 0.963330\n",
      "(Iteration 4511 / 4900) loss: 0.993195\n",
      "(Iteration 4521 / 4900) loss: 1.082476\n",
      "(Iteration 4531 / 4900) loss: 1.030995\n",
      "(Iteration 4541 / 4900) loss: 1.134663\n",
      "(Iteration 4551 / 4900) loss: 1.129079\n",
      "(Iteration 4561 / 4900) loss: 0.994402\n",
      "(Iteration 4571 / 4900) loss: 1.232840\n",
      "(Iteration 4581 / 4900) loss: 1.053664\n",
      "(Iteration 4591 / 4900) loss: 1.267270\n",
      "(Iteration 4601 / 4900) loss: 1.445619\n",
      "(Iteration 4611 / 4900) loss: 1.252362\n",
      "(Iteration 4621 / 4900) loss: 1.009002\n",
      "(Iteration 4631 / 4900) loss: 1.204796\n",
      "(Iteration 4641 / 4900) loss: 1.060057\n",
      "(Iteration 4651 / 4900) loss: 1.247209\n",
      "(Iteration 4661 / 4900) loss: 1.058769\n",
      "(Iteration 4671 / 4900) loss: 1.121608\n",
      "(Iteration 4681 / 4900) loss: 1.201850\n",
      "(Iteration 4691 / 4900) loss: 0.943674\n",
      "(Iteration 4701 / 4900) loss: 1.007542\n",
      "(Iteration 4711 / 4900) loss: 1.016242\n",
      "(Iteration 4721 / 4900) loss: 1.305058\n",
      "(Iteration 4731 / 4900) loss: 1.007821\n",
      "(Iteration 4741 / 4900) loss: 1.166769\n",
      "(Iteration 4751 / 4900) loss: 1.000250\n",
      "(Iteration 4761 / 4900) loss: 1.299355\n",
      "(Iteration 4771 / 4900) loss: 1.179044\n",
      "(Iteration 4781 / 4900) loss: 1.314173\n",
      "(Iteration 4791 / 4900) loss: 1.047933\n",
      "(Iteration 4801 / 4900) loss: 1.005175\n",
      "(Iteration 4811 / 4900) loss: 1.161903\n",
      "(Iteration 4821 / 4900) loss: 1.102589\n",
      "(Iteration 4831 / 4900) loss: 1.140030\n",
      "(Iteration 4841 / 4900) loss: 1.274614\n",
      "(Iteration 4851 / 4900) loss: 1.019700\n",
      "(Iteration 4861 / 4900) loss: 1.275718\n",
      "(Iteration 4871 / 4900) loss: 1.284904\n",
      "(Iteration 4881 / 4900) loss: 1.259072\n",
      "(Iteration 4891 / 4900) loss: 1.328857\n",
      "(Epoch 10 / 10) train acc: 0.611000; val_acc: 0.512000\n"
     ]
    }
   ],
   "source": [
    "model = TwoLayerNet()\n",
    "solver = Solver(model, data, lr_decay = 0.95, optim_config = {'learning_rate' : 1e-3} )\n",
    "\n",
    "##############################################################################\n",
    "# TODO: Use a Solver instance to train a TwoLayerNet that achieves at least  #\n",
    "# 50% accuracy on the validation set.                                        #\n",
    "##############################################################################\n",
    "# *****START OF YOUR CODE (DO NOT DELETE/MODIFY THIS LINE)*****\n",
    "\n",
    "solver.train()\n",
    "\n",
    "# *****END OF YOUR CODE (DO NOT DELETE/MODIFY THIS LINE)*****\n",
    "##############################################################################\n",
    "#                             END OF YOUR CODE                               #\n",
    "##############################################################################"
   ]
  },
  {
   "cell_type": "code",
   "execution_count": 15,
   "metadata": {
    "nbpresent": {
     "id": "29a049a8-1f4a-45c4-be1b-ed1803cff80c"
    }
   },
   "outputs": [
    {
     "data": {
      "image/png": "[encoded data removed]",
      "text/plain": [
       "<Figure size 1080x864 with 2 Axes>"
      ]
     },
     "metadata": {},
     "output_type": "display_data"
    }
   ],
   "source": [
    "# Run this cell to visualize training loss and train / val accuracy\n",
    "\n",
    "plt.subplot(2, 1, 1)\n",
    "plt.title('Training loss')\n",
    "plt.plot(solver.loss_history, 'o')\n",
    "plt.xlabel('Iteration')\n",
    "\n",
    "plt.subplot(2, 1, 2)\n",
    "plt.title('Accuracy')\n",
    "plt.plot(solver.train_acc_history, '-o', label='train')\n",
    "plt.plot(solver.val_acc_history, '-o', label='val')\n",
    "plt.plot([0.5] * len(solver.val_acc_history), 'k--')\n",
    "plt.xlabel('Epoch')\n",
    "plt.legend(loc='lower right')\n",
    "plt.gcf().set_size_inches(15, 12)\n",
    "plt.show()"
   ]
  },
  {
   "cell_type": "markdown",
   "metadata": {
    "nbpresent": {
     "id": "6f0776a2-07d2-4d82-bd12-2b3e30e62ca9"
    }
   },
   "source": [
    "# Multilayer network\n",
    "Next you will implement a fully-connected network with an arbitrary number of hidden layers.\n",
    "\n",
    "Read through the `FullyConnectedNet` class in the file `cs231n/classifiers/fc_net.py`.\n",
    "\n",
    "Implement the initialization, the forward pass, and the backward pass. For the moment don't worry about implementing dropout or batch/layer normalization; we will add those features soon."
   ]
  },
  {
   "cell_type": "markdown",
   "metadata": {
    "nbpresent": {
     "id": "f6910343-38a2-40c4-bbe5-3ad7f46347a7"
    }
   },
   "source": [
    "## Initial loss and gradient check\n",
    "\n",
    "As a sanity check, run the following to check the initial loss and to gradient check the network both with and without regularization. Do the initial losses seem reasonable?\n",
    "\n",
    "For gradient checking, you should expect to see errors around 1e-7 or less."
   ]
  },
  {
   "cell_type": "code",
   "execution_count": 14,
   "metadata": {
    "nbpresent": {
     "id": "e6a9fe59-9bfe-4908-8d94-1c6c736c1411"
    },
    "scrolled": true
   },
   "outputs": [
    {
     "name": "stdout",
     "output_type": "stream",
     "text": [
      "Running check with reg =  0\n",
      "Initial loss:  3.403521361894751\n",
      "W1 relative error: 9.05e-07\n",
      "W2 relative error: 3.05e-05\n",
      "W3 relative error: 2.12e-07\n",
      "b1 relative error: 2.34e-08\n",
      "b2 relative error: 1.34e-09\n",
      "b3 relative error: 4.47e-10\n",
      "Running check with reg =  3.14\n",
      "Initial loss:  6.550400448494777\n",
      "W1 relative error: 6.10e-08\n",
      "W2 relative error: 1.73e-08\n",
      "W3 relative error: 7.13e-08\n",
      "b1 relative error: 2.03e-08\n",
      "b2 relative error: 2.73e-08\n",
      "b3 relative error: 8.12e-10\n"
     ]
    }
   ],
   "source": [
    "np.random.seed(231)\n",
    "N, D, H1, H2, C = 2, 15, 20, 30, 10\n",
    "X = np.random.randn(N, D)\n",
    "y = np.random.randint(C, size=(N,))\n",
    "\n",
    "for reg in [0, 3.14]:\n",
    "  print('Running check with reg = ', reg)\n",
    "  model = FullyConnectedNet([H1, H2], input_dim=D, num_classes=C,\n",
    "                            reg=reg, weight_scale=5e-2, dtype=np.float64)\n",
    "\n",
    "  loss, grads = model.loss(X, y)\n",
    "  print('Initial loss: ', loss)\n",
    "  \n",
    "  # Most of the errors should be on the order of e-7 or smaller.   \n",
    "  # NOTE: It is fine however to see an error for W2 on the order of e-5\n",
    "  # for the check when reg = 0.0\n",
    "  for name in sorted(grads):\n",
    "    f = lambda _: model.loss(X, y)[0]\n",
    "    grad_num = eval_numerical_gradient(f, model.params[name], verbose=False, h=1e-5)\n",
    "    print('%s relative error: %.2e' % (name, rel_error(grad_num, grads[name])))"
   ]
  },
  {
   "cell_type": "markdown",
   "metadata": {
    "nbpresent": {
     "id": "ff205ff6-9098-4c95-8270-a6160d96e39a"
    }
   },
   "source": [
    "As another sanity check, make sure you can overfit a small dataset of 50 images. First we will try a three-layer network with 100 units in each hidden layer. In the following cell, tweak the **learning rate** and **weight initialization scale** to overfit and achieve 100% training accuracy within 20 epochs."
   ]
  },
  {
   "cell_type": "code",
   "execution_count": 5,
   "metadata": {
    "nbpresent": {
     "id": "e355e466-2760-4f16-ba82-d0e3c65f8ee4"
    },
    "scrolled": false
   },
   "outputs": [
    {
     "name": "stdout",
     "output_type": "stream",
     "text": [
      "(Iteration 1 / 40) loss: 4.554958\n",
      "(Epoch 0 / 20) train acc: 0.020000; val_acc: 0.010000\n",
      "(Epoch 1 / 20) train acc: 0.060000; val_acc: 0.027000\n",
      "(Epoch 2 / 20) train acc: 0.180000; val_acc: 0.098000\n",
      "(Epoch 3 / 20) train acc: 0.240000; val_acc: 0.137000\n",
      "(Epoch 4 / 20) train acc: 0.300000; val_acc: 0.135000\n",
      "(Epoch 5 / 20) train acc: 0.340000; val_acc: 0.109000\n",
      "(Iteration 11 / 40) loss: 2.256761\n",
      "(Epoch 6 / 20) train acc: 0.420000; val_acc: 0.154000\n",
      "(Epoch 7 / 20) train acc: 0.380000; val_acc: 0.131000\n",
      "(Epoch 8 / 20) train acc: 0.460000; val_acc: 0.140000\n",
      "(Epoch 9 / 20) train acc: 0.540000; val_acc: 0.153000\n",
      "(Epoch 10 / 20) train acc: 0.660000; val_acc: 0.145000\n",
      "(Iteration 21 / 40) loss: 1.337464\n",
      "(Epoch 11 / 20) train acc: 0.680000; val_acc: 0.139000\n",
      "(Epoch 12 / 20) train acc: 0.840000; val_acc: 0.166000\n",
      "(Epoch 13 / 20) train acc: 0.760000; val_acc: 0.146000\n",
      "(Epoch 14 / 20) train acc: 0.800000; val_acc: 0.148000\n",
      "(Epoch 15 / 20) train acc: 0.760000; val_acc: 0.143000\n",
      "(Iteration 31 / 40) loss: 0.689547\n",
      "(Epoch 16 / 20) train acc: 0.920000; val_acc: 0.171000\n",
      "(Epoch 17 / 20) train acc: 0.900000; val_acc: 0.179000\n",
      "(Epoch 18 / 20) train acc: 0.940000; val_acc: 0.179000\n",
      "(Epoch 19 / 20) train acc: 0.960000; val_acc: 0.168000\n",
      "(Epoch 20 / 20) train acc: 0.960000; val_acc: 0.165000\n"
     ]
    },
    {
     "data": {
      "image/png": "[encoded data removed]",
      "text/plain": [
       "<Figure size 432x288 with 1 Axes>"
      ]
     },
     "metadata": {},
     "output_type": "display_data"
    }
   ],
   "source": [
    "# TODO: Use a three-layer Net to overfit 50 training examples by \n",
    "# tweaking just the learning rate and initialization scale.\n",
    "\n",
    "num_train = 50\n",
    "small_data = {\n",
    "  'X_train': data['X_train'][:num_train],\n",
    "  'y_train': data['y_train'][:num_train],\n",
    "  'X_val': data['X_val'],\n",
    "  'y_val': data['y_val'],\n",
    "}\n",
    "\n",
    "weight_scale = 2e-2  # Experiment with this!\n",
    "learning_rate = 5e-3  # Experiment with this!\n",
    "model = FullyConnectedNet([100, 100],\n",
    "              weight_scale=weight_scale, dtype=np.float64)\n",
    "solver = Solver(model, small_data,\n",
    "                print_every=10, num_epochs=20, batch_size=25,\n",
    "                update_rule='sgd',\n",
    "                optim_config={\n",
    "                  'learning_rate': learning_rate,\n",
    "                }\n",
    "         )\n",
    "solver.train()\n",
    "\n",
    "plt.plot(solver.loss_history, 'o')\n",
    "plt.title('Training loss history')\n",
    "plt.xlabel('Iteration')\n",
    "plt.ylabel('Training loss')\n",
    "plt.show()"
   ]
  },
  {
   "cell_type": "markdown",
   "metadata": {
    "nbpresent": {
     "id": "5887bd5b-0b31-44d4-b1ac-14885df345da"
    }
   },
   "source": [
    "Now try to use a five-layer network with 100 units on each layer to overfit 50 training examples. Again, you will have to adjust the learning rate and weight initialization scale, but you should be able to achieve 100% training accuracy within 20 epochs."
   ]
  },
  {
   "cell_type": "code",
   "execution_count": 16,
   "metadata": {
    "nbpresent": {
     "id": "3400ed5c-70c3-4a9c-b81d-5361eb429a1c"
    }
   },
   "outputs": [
    {
     "name": "stdout",
     "output_type": "stream",
     "text": [
      "(Iteration 1 / 40) loss: 5.474515\n",
      "(Epoch 0 / 20) train acc: 0.020000; val_acc: 0.006000\n",
      "(Epoch 1 / 20) train acc: 0.040000; val_acc: 0.007000\n",
      "(Epoch 2 / 20) train acc: 0.080000; val_acc: 0.029000\n",
      "(Epoch 3 / 20) train acc: 0.220000; val_acc: 0.061000\n",
      "(Epoch 4 / 20) train acc: 0.300000; val_acc: 0.094000\n",
      "(Epoch 5 / 20) train acc: 0.280000; val_acc: 0.124000\n",
      "(Iteration 11 / 40) loss: 2.000876\n",
      "(Epoch 6 / 20) train acc: 0.480000; val_acc: 0.122000\n",
      "(Epoch 7 / 20) train acc: 0.580000; val_acc: 0.109000\n",
      "(Epoch 8 / 20) train acc: 0.520000; val_acc: 0.121000\n",
      "(Epoch 9 / 20) train acc: 0.620000; val_acc: 0.128000\n",
      "(Epoch 10 / 20) train acc: 0.620000; val_acc: 0.132000\n",
      "(Iteration 21 / 40) loss: 1.194216\n",
      "(Epoch 11 / 20) train acc: 0.720000; val_acc: 0.112000\n",
      "(Epoch 12 / 20) train acc: 0.680000; val_acc: 0.128000\n",
      "(Epoch 13 / 20) train acc: 0.780000; val_acc: 0.133000\n",
      "(Epoch 14 / 20) train acc: 0.700000; val_acc: 0.124000\n",
      "(Epoch 15 / 20) train acc: 0.780000; val_acc: 0.122000\n",
      "(Iteration 31 / 40) loss: 0.917162\n",
      "(Epoch 16 / 20) train acc: 0.760000; val_acc: 0.119000\n",
      "(Epoch 17 / 20) train acc: 0.840000; val_acc: 0.121000\n",
      "(Epoch 18 / 20) train acc: 0.900000; val_acc: 0.109000\n",
      "(Epoch 19 / 20) train acc: 0.760000; val_acc: 0.136000\n",
      "(Epoch 20 / 20) train acc: 0.860000; val_acc: 0.128000\n"
     ]
    },
    {
     "data": {
      "image/png": "[encoded data removed]",
      "text/plain": [
       "<Figure size 432x288 with 1 Axes>"
      ]
     },
     "metadata": {},
     "output_type": "display_data"
    }
   ],
   "source": [
    "# TODO: Use a five-layer Net to overfit 50 training examples by \n",
    "# tweaking just the learning rate and initialization scale.\n",
    "\n",
    "num_train = 50\n",
    "small_data = {\n",
    "  'X_train': data['X_train'][:num_train],\n",
    "  'y_train': data['y_train'][:num_train],\n",
    "  'X_val': data['X_val'],\n",
    "  'y_val': data['y_val'],\n",
    "}\n",
    "\n",
    "learning_rate = 5e-3  # Experiment with this!\n",
    "weight_scale = 6e-2   # Experiment with this!\n",
    "model = FullyConnectedNet([100, 100, 100, 100],\n",
    "                weight_scale=weight_scale, dtype=np.float64)\n",
    "solver = Solver(model, small_data,\n",
    "                print_every=10, num_epochs=20, batch_size=25,\n",
    "                update_rule='sgd',\n",
    "                optim_config={\n",
    "                  'learning_rate': learning_rate,\n",
    "                }\n",
    "         )\n",
    "solver.train()\n",
    "\n",
    "plt.plot(solver.loss_history, 'o')\n",
    "plt.title('Training loss history')\n",
    "plt.xlabel('Iteration')\n",
    "plt.ylabel('Training loss')\n",
    "plt.show()"
   ]
  },
  {
   "cell_type": "markdown",
   "metadata": {
    "nbpresent": {
     "id": "d52571ba-4e14-422e-99ac-3be5e8dc3705"
    },
    "tags": [
     "pdf-inline"
    ]
   },
   "source": [
    "##### Inline Question 2: \n",
    "Did you notice anything about the comparative difficulty of training the three-layer net vs training the five layer net? In particular, based on your experience, which network seemed more sensitive to the initialization scale? Why do you think that is the case?\n",
    "\n",
    "## Answer:\n",
    "[FILL THIS IN]\n"
   ]
  },
  {
   "cell_type": "markdown",
   "metadata": {
    "nbpresent": {
     "id": "2574e7df-32db-46f7-b6df-ce104fe67b7e"
    }
   },
   "source": [
    "# Update rules\n",
    "So far we have used vanilla stochastic gradient descent (SGD) as our update rule. More sophisticated update rules can make it easier to train deep networks. We will implement a few of the most commonly used update rules and compare them to vanilla SGD."
   ]
  },
  {
   "cell_type": "markdown",
   "metadata": {
    "nbpresent": {
     "id": "72fa8a80-1b55-4e7f-89dc-dc83d49de7a9"
    }
   },
   "source": [
    "# SGD+Momentum\n",
    "Stochastic gradient descent with momentum is a widely used update rule that tends to make deep networks converge faster than vanilla stochastic gradient descent. See the Momentum Update section at http://cs231n.github.io/neural-networks-3/#sgd for more information.\n",
    "\n",
    "Open the file `cs231n/optim.py` and read the documentation at the top of the file to make sure you understand the API. Implement the SGD+momentum update rule in the function `sgd_momentum` and run the following to check your implementation. You should see errors less than e-8."
   ]
  },
  {
   "cell_type": "code",
   "execution_count": 17,
   "metadata": {
    "nbpresent": {
     "id": "fbcea1a4-05cc-46fc-9f6c-66bc02892110"
    }
   },
   "outputs": [
    {
     "name": "stdout",
     "output_type": "stream",
     "text": [
      "next_w error:  8.882347033505819e-09\n",
      "velocity error:  4.269287743278663e-09\n"
     ]
    }
   ],
   "source": [
    "from cs231n.optim import sgd_momentum\n",
    "\n",
    "N, D = 4, 5\n",
    "w = np.linspace(-0.4, 0.6, num=N*D).reshape(N, D)\n",
    "dw = np.linspace(-0.6, 0.4, num=N*D).reshape(N, D)\n",
    "v = np.linspace(0.6, 0.9, num=N*D).reshape(N, D)\n",
    "\n",
    "config = {'learning_rate': 1e-3, 'velocity': v}\n",
    "next_w, _ = sgd_momentum(w, dw, config=config)\n",
    "\n",
    "expected_next_w = np.asarray([\n",
    "  [ 0.1406,      0.20738947,  0.27417895,  0.34096842,  0.40775789],\n",
    "  [ 0.47454737,  0.54133684,  0.60812632,  0.67491579,  0.74170526],\n",
    "  [ 0.80849474,  0.87528421,  0.94207368,  1.00886316,  1.07565263],\n",
    "  [ 1.14244211,  1.20923158,  1.27602105,  1.34281053,  1.4096    ]])\n",
    "expected_velocity = np.asarray([\n",
    "  [ 0.5406,      0.55475789,  0.56891579, 0.58307368,  0.59723158],\n",
    "  [ 0.61138947,  0.62554737,  0.63970526,  0.65386316,  0.66802105],\n",
    "  [ 0.68217895,  0.69633684,  0.71049474,  0.72465263,  0.73881053],\n",
    "  [ 0.75296842,  0.76712632,  0.78128421,  0.79544211,  0.8096    ]])\n",
    "\n",
    "# Should see relative errors around e-8 or less\n",
    "print('next_w error: ', rel_error(next_w, expected_next_w))\n",
    "print('velocity error: ', rel_error(expected_velocity, config['velocity']))"
   ]
  },
  {
   "cell_type": "markdown",
   "metadata": {
    "nbpresent": {
     "id": "d6028159-c635-4aec-8bb5-eb1d8cdd205d"
    }
   },
   "source": [
    "Once you have done so, run the following to train a six-layer network with both SGD and SGD+momentum. You should see the SGD+momentum update rule converge faster."
   ]
  },
  {
   "cell_type": "code",
   "execution_count": 18,
   "metadata": {
    "nbpresent": {
     "id": "eb1d593b-c038-4bb3-8c6e-c0a9007e1d0f"
    },
    "scrolled": false
   },
   "outputs": [
    {
     "name": "stdout",
     "output_type": "stream",
     "text": [
      "running with  sgd\n",
      "(Iteration 1 / 200) loss: 4.724139\n",
      "(Epoch 0 / 5) train acc: 0.001000; val_acc: 0.001000\n",
      "(Iteration 11 / 200) loss: 4.427558\n",
      "(Iteration 21 / 200) loss: 3.713954\n",
      "(Iteration 31 / 200) loss: 2.568346\n",
      "(Epoch 1 / 5) train acc: 0.123000; val_acc: 0.125000\n",
      "(Iteration 41 / 200) loss: 2.380582\n",
      "(Iteration 51 / 200) loss: 2.402970\n",
      "(Iteration 61 / 200) loss: 2.557174\n",
      "(Iteration 71 / 200) loss: 2.315929\n",
      "(Epoch 2 / 5) train acc: 0.165000; val_acc: 0.157000\n",
      "(Iteration 81 / 200) loss: 2.320818\n",
      "(Iteration 91 / 200) loss: 2.226975\n",
      "(Iteration 101 / 200) loss: 2.399180\n",
      "(Iteration 111 / 200) loss: 2.272022\n",
      "(Epoch 3 / 5) train acc: 0.194000; val_acc: 0.201000\n",
      "(Iteration 121 / 200) loss: 2.328616\n",
      "(Iteration 131 / 200) loss: 2.247616\n",
      "(Iteration 141 / 200) loss: 2.244546\n",
      "(Iteration 151 / 200) loss: 2.202678\n",
      "(Epoch 4 / 5) train acc: 0.200000; val_acc: 0.189000\n",
      "(Iteration 161 / 200) loss: 2.229137\n",
      "(Iteration 171 / 200) loss: 2.220837\n",
      "(Iteration 181 / 200) loss: 2.140079\n",
      "(Iteration 191 / 200) loss: 2.192794\n",
      "(Epoch 5 / 5) train acc: 0.272000; val_acc: 0.254000\n",
      "\n",
      "running with  sgd_momentum\n",
      "(Iteration 1 / 200) loss: 4.606515\n",
      "(Epoch 0 / 5) train acc: 0.017000; val_acc: 0.020000\n",
      "(Iteration 11 / 200) loss: 3.536981\n",
      "(Iteration 21 / 200) loss: 2.561100\n",
      "(Iteration 31 / 200) loss: 2.143871\n",
      "(Epoch 1 / 5) train acc: 0.220000; val_acc: 0.230000\n",
      "(Iteration 41 / 200) loss: 2.101431\n",
      "(Iteration 51 / 200) loss: 2.061867\n",
      "(Iteration 61 / 200) loss: 1.933496\n",
      "(Iteration 71 / 200) loss: 1.912536\n",
      "(Epoch 2 / 5) train acc: 0.282000; val_acc: 0.276000\n",
      "(Iteration 81 / 200) loss: 1.951280\n",
      "(Iteration 91 / 200) loss: 2.017326\n",
      "(Iteration 101 / 200) loss: 1.754094\n",
      "(Iteration 111 / 200) loss: 1.890891\n",
      "(Epoch 3 / 5) train acc: 0.354000; val_acc: 0.310000\n",
      "(Iteration 121 / 200) loss: 1.848130\n",
      "(Iteration 131 / 200) loss: 1.740854\n",
      "(Iteration 141 / 200) loss: 1.705395\n",
      "(Iteration 151 / 200) loss: 1.692066\n",
      "(Epoch 4 / 5) train acc: 0.393000; val_acc: 0.334000\n",
      "(Iteration 161 / 200) loss: 1.642059\n",
      "(Iteration 171 / 200) loss: 1.518144\n",
      "(Iteration 181 / 200) loss: 1.626428\n",
      "(Iteration 191 / 200) loss: 1.525862\n",
      "(Epoch 5 / 5) train acc: 0.448000; val_acc: 0.325000\n",
      "\n"
     ]
    },
    {
     "name": "stderr",
     "output_type": "stream",
     "text": [
      "/opt/anaconda3/lib/python3.7/site-packages/matplotlib/figure.py:98: MatplotlibDeprecationWarning: \n",
      "Adding an axes using the same arguments as a previous axes currently reuses the earlier instance.  In a future version, a new instance will always be created and returned.  Meanwhile, this warning can be suppressed, and the future behavior ensured, by passing a unique label to each axes instance.\n",
      "  \"Adding an axes using the same arguments as a previous axes \"\n"
     ]
    },
    {
     "data": {
      "image/png": "[encoded data removed]",
      "text/plain": [
       "<Figure size 1080x1080 with 3 Axes>"
      ]
     },
     "metadata": {},
     "output_type": "display_data"
    }
   ],
   "source": [
    "num_train = 4000\n",
    "small_data = {\n",
    "  'X_train': data['X_train'][:num_train],\n",
    "  'y_train': data['y_train'][:num_train],\n",
    "  'X_val': data['X_val'],\n",
    "  'y_val': data['y_val'],\n",
    "}\n",
    "\n",
    "solvers = {}\n",
    "\n",
    "for update_rule in ['sgd', 'sgd_momentum']:\n",
    "  print('running with ', update_rule)\n",
    "  model = FullyConnectedNet([100, 100, 100, 100, 100], weight_scale=5e-2)\n",
    "\n",
    "  solver = Solver(model, small_data,\n",
    "                  num_epochs=5, batch_size=100,\n",
    "                  update_rule=update_rule,\n",
    "                  optim_config={\n",
    "                    'learning_rate': 5e-3,\n",
    "                  },\n",
    "                  verbose=True)\n",
    "  solvers[update_rule] = solver\n",
    "  solver.train()\n",
    "  print()\n",
    "\n",
    "plt.subplot(3, 1, 1)\n",
    "plt.title('Training loss')\n",
    "plt.xlabel('Iteration')\n",
    "\n",
    "plt.subplot(3, 1, 2)\n",
    "plt.title('Training accuracy')\n",
    "plt.xlabel('Epoch')\n",
    "\n",
    "plt.subplot(3, 1, 3)\n",
    "plt.title('Validation accuracy')\n",
    "plt.xlabel('Epoch')\n",
    "\n",
    "for update_rule, solver in solvers.items():\n",
    "  plt.subplot(3, 1, 1)\n",
    "  plt.plot(solver.loss_history, 'o', label=\"loss_%s\" % update_rule)\n",
    "  \n",
    "  plt.subplot(3, 1, 2)\n",
    "  plt.plot(solver.train_acc_history, '-o', label=\"train_acc_%s\" % update_rule)\n",
    "\n",
    "  plt.subplot(3, 1, 3)\n",
    "  plt.plot(solver.val_acc_history, '-o', label=\"val_acc_%s\" % update_rule)\n",
    "  \n",
    "for i in [1, 2, 3]:\n",
    "  plt.subplot(3, 1, i)\n",
    "  plt.legend(loc='upper center', ncol=4)\n",
    "plt.gcf().set_size_inches(15, 15)\n",
    "plt.show()"
   ]
  },
  {
   "cell_type": "markdown",
   "metadata": {
    "nbpresent": {
     "id": "762323d3-6362-4f8c-a440-0f6e21964a44"
    }
   },
   "source": [
    "# RMSProp and Adam\n",
    "RMSProp [1] and Adam [2] are update rules that set per-parameter learning rates by using a running average of the second moments of gradients.\n",
    "\n",
    "In the file `cs231n/optim.py`, implement the RMSProp update rule in the `rmsprop` function and implement the Adam update rule in the `adam` function, and check your implementations using the tests below.\n",
    "\n",
    "**NOTE:** Please implement the _complete_ Adam update rule (with the bias correction mechanism), not the first simplified version mentioned in the course notes. \n",
    "\n",
    "[1] Tijmen Tieleman and Geoffrey Hinton. \"Lecture 6.5-rmsprop: Divide the gradient by a running average of its recent magnitude.\" COURSERA: Neural Networks for Machine Learning 4 (2012).\n",
    "\n",
    "[2] Diederik Kingma and Jimmy Ba, \"Adam: A Method for Stochastic Optimization\", ICLR 2015."
   ]
  },
  {
   "cell_type": "code",
   "execution_count": 21,
   "metadata": {
    "nbpresent": {
     "id": "a28afc18-251b-4b3a-9be6-efcfc0e97d80"
    }
   },
   "outputs": [
    {
     "name": "stdout",
     "output_type": "stream",
     "text": [
      "next_w error:  9.524687511038133e-08\n",
      "cache error:  2.6477955807156126e-09\n"
     ]
    }
   ],
   "source": [
    "# Test RMSProp implementation\n",
    "from cs231n.optim import rmsprop\n",
    "\n",
    "N, D = 4, 5\n",
    "w = np.linspace(-0.4, 0.6, num=N*D).reshape(N, D)\n",
    "dw = np.linspace(-0.6, 0.4, num=N*D).reshape(N, D)\n",
    "cache = np.linspace(0.6, 0.9, num=N*D).reshape(N, D)\n",
    "\n",
    "config = {'learning_rate': 1e-2, 'cache': cache}\n",
    "next_w, _ = rmsprop(w, dw, config=config)\n",
    "\n",
    "expected_next_w = np.asarray([\n",
    "  [-0.39223849, -0.34037513, -0.28849239, -0.23659121, -0.18467247],\n",
    "  [-0.132737,   -0.08078555, -0.02881884,  0.02316247,  0.07515774],\n",
    "  [ 0.12716641,  0.17918792,  0.23122175,  0.28326742,  0.33532447],\n",
    "  [ 0.38739248,  0.43947102,  0.49155973,  0.54365823,  0.59576619]])\n",
    "expected_cache = np.asarray([\n",
    "  [ 0.5976,      0.6126277,   0.6277108,   0.64284931,  0.65804321],\n",
    "  [ 0.67329252,  0.68859723,  0.70395734,  0.71937285,  0.73484377],\n",
    "  [ 0.75037008,  0.7659518,   0.78158892,  0.79728144,  0.81302936],\n",
    "  [ 0.82883269,  0.84469141,  0.86060554,  0.87657507,  0.8926    ]])\n",
    "\n",
    "# You should see relative errors around e-7 or less\n",
    "print('next_w error: ', rel_error(expected_next_w, next_w))\n",
    "print('cache error: ', rel_error(expected_cache, config['cache']))"
   ]
  },
  {
   "cell_type": "code",
   "execution_count": 25,
   "metadata": {
    "nbpresent": {
     "id": "14934326-5b15-4565-b900-98e7e9b5461e"
    },
    "scrolled": true
   },
   "outputs": [
    {
     "name": "stdout",
     "output_type": "stream",
     "text": [
      "next_w error:  1.1395691798535431e-07\n",
      "v error:  4.208314038113071e-09\n",
      "m error:  4.214963193114416e-09\n"
     ]
    }
   ],
   "source": [
    "# Test Adam implementation\n",
    "from cs231n.optim import adam\n",
    "\n",
    "N, D = 4, 5\n",
    "w = np.linspace(-0.4, 0.6, num=N*D).reshape(N, D)\n",
    "dw = np.linspace(-0.6, 0.4, num=N*D).reshape(N, D)\n",
    "m = np.linspace(0.6, 0.9, num=N*D).reshape(N, D)\n",
    "v = np.linspace(0.7, 0.5, num=N*D).reshape(N, D)\n",
    "\n",
    "config = {'learning_rate': 1e-2, 'm': m, 'v': v, 't': 5}\n",
    "next_w, _ = adam(w, dw, config=config)\n",
    "\n",
    "expected_next_w = np.asarray([\n",
    "  [-0.40094747, -0.34836187, -0.29577703, -0.24319299, -0.19060977],\n",
    "  [-0.1380274,  -0.08544591, -0.03286534,  0.01971428,  0.0722929],\n",
    "  [ 0.1248705,   0.17744702,  0.23002243,  0.28259667,  0.33516969],\n",
    "  [ 0.38774145,  0.44031188,  0.49288093,  0.54544852,  0.59801459]])\n",
    "expected_v = np.asarray([\n",
    "  [ 0.69966,     0.68908382,  0.67851319,  0.66794809,  0.65738853,],\n",
    "  [ 0.64683452,  0.63628604,  0.6257431,   0.61520571,  0.60467385,],\n",
    "  [ 0.59414753,  0.58362676,  0.57311152,  0.56260183,  0.55209767,],\n",
    "  [ 0.54159906,  0.53110598,  0.52061845,  0.51013645,  0.49966,   ]])\n",
    "expected_m = np.asarray([\n",
    "  [ 0.48,        0.49947368,  0.51894737,  0.53842105,  0.55789474],\n",
    "  [ 0.57736842,  0.59684211,  0.61631579,  0.63578947,  0.65526316],\n",
    "  [ 0.67473684,  0.69421053,  0.71368421,  0.73315789,  0.75263158],\n",
    "  [ 0.77210526,  0.79157895,  0.81105263,  0.83052632,  0.85      ]])\n",
    "\n",
    "# You should see relative errors around e-7 or less\n",
    "print('next_w error: ', rel_error(expected_next_w, next_w))\n",
    "print('v error: ', rel_error(expected_v, config['v']))\n",
    "print('m error: ', rel_error(expected_m, config['m']))"
   ]
  },
  {
   "cell_type": "markdown",
   "metadata": {
    "nbpresent": {
     "id": "7ad3e4bb-6dcc-46d3-a758-ee17d9db9cb6"
    }
   },
   "source": [
    "Once you have debugged your RMSProp and Adam implementations, run the following to train a pair of deep networks using these new update rules:"
   ]
  },
  {
   "cell_type": "code",
   "execution_count": 6,
   "metadata": {
    "nbpresent": {
     "id": "023dbf27-b4d4-47dd-857b-6c0b672c3491"
    }
   },
   "outputs": [
    {
     "name": "stdout",
     "output_type": "stream",
     "text": [
      "running with  adam\n"
     ]
    },
    {
     "ename": "NameError",
     "evalue": "name 'solvers' is not defined",
     "output_type": "error",
     "traceback": [
      "\u001b[0;31m---------------------------------------------------------------------------\u001b[0m",
      "\u001b[0;31mNameError\u001b[0m                                 Traceback (most recent call last)",
      "\u001b[0;32m<ipython-input-6-c31f2247ce3b>\u001b[0m in \u001b[0;36m<module>\u001b[0;34m\u001b[0m\n\u001b[1;32m     11\u001b[0m                   },\n\u001b[1;32m     12\u001b[0m                   verbose=True)\n\u001b[0;32m---> 13\u001b[0;31m   \u001b[0msolvers\u001b[0m\u001b[0;34m[\u001b[0m\u001b[0mupdate_rule\u001b[0m\u001b[0;34m]\u001b[0m \u001b[0;34m=\u001b[0m \u001b[0msolver\u001b[0m\u001b[0;34m\u001b[0m\u001b[0;34m\u001b[0m\u001b[0m\n\u001b[0m\u001b[1;32m     14\u001b[0m   \u001b[0msolver\u001b[0m\u001b[0;34m.\u001b[0m\u001b[0mtrain\u001b[0m\u001b[0;34m(\u001b[0m\u001b[0;34m)\u001b[0m\u001b[0;34m\u001b[0m\u001b[0;34m\u001b[0m\u001b[0m\n\u001b[1;32m     15\u001b[0m   \u001b[0mprint\u001b[0m\u001b[0;34m(\u001b[0m\u001b[0;34m)\u001b[0m\u001b[0;34m\u001b[0m\u001b[0;34m\u001b[0m\u001b[0m\n",
      "\u001b[0;31mNameError\u001b[0m: name 'solvers' is not defined"
     ]
    }
   ],
   "source": [
    "learning_rates = {'rmsprop': 1e-4, 'adam': 1e-3}\n",
    "for update_rule in ['adam', 'rmsprop']:\n",
    "  print('running with ', update_rule)\n",
    "  model = FullyConnectedNet([100, 100, 100, 100, 100], weight_scale=5e-2)\n",
    "\n",
    "  solver = Solver(model, small_data,\n",
    "                  num_epochs=5, batch_size=100,\n",
    "                  update_rule=update_rule,\n",
    "                  optim_config={\n",
    "                    'learning_rate': learning_rates[update_rule]\n",
    "                  },\n",
    "                  verbose=True)\n",
    "  solvers[update_rule] = solver\n",
    "  solver.train()\n",
    "  print()\n",
    "\n",
    "plt.subplot(3, 1, 1)\n",
    "plt.title('Training loss')\n",
    "plt.xlabel('Iteration')\n",
    "\n",
    "plt.subplot(3, 1, 2)\n",
    "plt.title('Training accuracy')\n",
    "plt.xlabel('Epoch')\n",
    "\n",
    "plt.subplot(3, 1, 3)\n",
    "plt.title('Validation accuracy')\n",
    "plt.xlabel('Epoch')\n",
    "\n",
    "for update_rule, solver in list(solvers.items()):\n",
    "  plt.subplot(3, 1, 1)\n",
    "  plt.plot(solver.loss_history, 'o', label=update_rule)\n",
    "  \n",
    "  plt.subplot(3, 1, 2)\n",
    "  plt.plot(solver.train_acc_history, '-o', label=update_rule)\n",
    "\n",
    "  plt.subplot(3, 1, 3)\n",
    "  plt.plot(solver.val_acc_history, '-o', label=update_rule)\n",
    "  \n",
    "for i in [1, 2, 3]:\n",
    "  plt.subplot(3, 1, i)\n",
    "  plt.legend(loc='upper center', ncol=4)\n",
    "plt.gcf().set_size_inches(15, 15)\n",
    "plt.show()"
   ]
  },
  {
   "cell_type": "markdown",
   "metadata": {
    "nbpresent": {
     "id": "622d301e-8510-408c-b9a3-c70eb087324b"
    },
    "tags": [
     "pdf-inline"
    ]
   },
   "source": [
    "## Inline Question 3:\n",
    "\n",
    "AdaGrad, like Adam, is a per-parameter optimization method that uses the following update rule:\n",
    "\n",
    "```\n",
    "cache += dw**2\n",
    "w += - learning_rate * dw / (np.sqrt(cache) + eps)\n",
    "```\n",
    "\n",
    "John notices that when he was training a network with AdaGrad that the updates became very small, and that his network was learning slowly. Using your knowledge of the AdaGrad update rule, why do you think the updates would become very small? Would Adam have the same issue?\n",
    "\n",
    "\n",
    "## Answer: \n",
    "[FILL THIS IN]\n"
   ]
  },
  {
   "cell_type": "markdown",
   "metadata": {
    "nbpresent": {
     "id": "1bcefec4-9194-407c-9ddf-06ee6e5f13f8"
    }
   },
   "source": [
    "# Train a good model!\n",
    "Train the best fully-connected model that you can on CIFAR-10, storing your best model in the `best_model` variable. We require you to get at least 50% accuracy on the validation set using a fully-connected net.\n",
    "\n",
    "If you are careful it should be possible to get accuracies above 55%, but we don't require it for this part and won't assign extra credit for doing so. Later in the assignment we will ask you to train the best convolutional network that you can on CIFAR-10, and we would prefer that you spend your effort working on convolutional nets rather than fully-connected nets.\n",
    "\n",
    "You might find it useful to complete the `BatchNormalization.ipynb` and `Dropout.ipynb` notebooks before completing this part, since those techniques can help you train powerful models."
   ]
  },
  {
   "cell_type": "code",
   "execution_count": 3,
   "metadata": {
    "nbpresent": {
     "id": "217412ba-d86d-4eaf-b762-b5d7195b56d0"
    },
    "scrolled": false
   },
   "outputs": [
    {
     "ename": "NameError",
     "evalue": "name 'model' is not defined",
     "output_type": "error",
     "traceback": [
      "\u001b[0;31m---------------------------------------------------------------------------\u001b[0m",
      "\u001b[0;31mNameError\u001b[0m                                 Traceback (most recent call last)",
      "\u001b[0;32m<ipython-input-3-5dc137233e81>\u001b[0m in \u001b[0;36m<module>\u001b[0;34m\u001b[0m\n\u001b[1;32m      8\u001b[0m \u001b[0;34m\u001b[0m\u001b[0m\n\u001b[1;32m      9\u001b[0m \u001b[0mbest_model\u001b[0m \u001b[0;34m=\u001b[0m \u001b[0mFullyConnectedNet\u001b[0m\u001b[0;34m(\u001b[0m\u001b[0;34m[\u001b[0m\u001b[0;36m100\u001b[0m\u001b[0;34m,\u001b[0m \u001b[0;36m100\u001b[0m\u001b[0;34m,\u001b[0m \u001b[0;36m100\u001b[0m\u001b[0;34m]\u001b[0m\u001b[0;34m,\u001b[0m \u001b[0mweight_scale\u001b[0m\u001b[0;34m=\u001b[0m\u001b[0;36m1e-2\u001b[0m\u001b[0;34m)\u001b[0m\u001b[0;34m\u001b[0m\u001b[0;34m\u001b[0m\u001b[0m\n\u001b[0;32m---> 10\u001b[0;31m solver = Solver(model, small_data,\n\u001b[0m\u001b[1;32m     11\u001b[0m                   \u001b[0mnum_epochs\u001b[0m\u001b[0;34m=\u001b[0m\u001b[0;36m20\u001b[0m\u001b[0;34m,\u001b[0m \u001b[0mbatch_size\u001b[0m\u001b[0;34m=\u001b[0m\u001b[0;36m25\u001b[0m\u001b[0;34m,\u001b[0m\u001b[0;34m\u001b[0m\u001b[0;34m\u001b[0m\u001b[0m\n\u001b[1;32m     12\u001b[0m                   \u001b[0mupdate_rule\u001b[0m\u001b[0;34m=\u001b[0m\u001b[0;34m'adam'\u001b[0m\u001b[0;34m,\u001b[0m\u001b[0;34m\u001b[0m\u001b[0;34m\u001b[0m\u001b[0m\n",
      "\u001b[0;31mNameError\u001b[0m: name 'model' is not defined"
     ]
    }
   ],
   "source": [
    "best_model = None\n",
    "################################################################################\n",
    "# TODO: Train the best FullyConnectedNet that you can on CIFAR-10. You might   #\n",
    "# find batch/layer normalization and dropout useful. Store your best model in  #\n",
    "# the best_model variable.                                                     #\n",
    "################################################################################\n",
    "# *****START OF YOUR CODE (DO NOT DELETE/MODIFY THIS LINE)*****\n",
    "\n",
    "best_model = FullyConnectedNet([100, 100, 100], weight_scale=1e-2)\n",
    "solver = Solver(model, small_data,\n",
    "                  num_epochs=20, batch_size=25,\n",
    "                  update_rule='adam',\n",
    "                  optim_config={\n",
    "                    'learning_rate': 3e-4,\n",
    "                  },\n",
    "                  verbose=False)\n",
    "solver.train()\n",
    "\n",
    "plt.subplot(3, 1, 1)\n",
    "plt.title('Training loss')\n",
    "plt.xlabel('Iteration')\n",
    "\n",
    "plt.subplot(3, 1, 2)\n",
    "plt.title('Training accuracy')\n",
    "plt.xlabel('Epoch')\n",
    "\n",
    "plt.subplot(3, 1, 3)\n",
    "plt.title('Validation accuracy')\n",
    "plt.xlabel('Epoch')\n",
    "\n",
    "plt.subplot(3, 1, 1)\n",
    "plt.plot(solver.loss_history, 'o', label=\"loss\")\n",
    "\n",
    "plt.subplot(3, 1, 2)\n",
    "plt.plot(solver.train_acc_history, '-o', label=\"train_acc\")\n",
    "\n",
    "plt.subplot(3, 1, 3)\n",
    "plt.plot(solver.val_acc_history, '-o', label=\"val_acc\")\n",
    "  \n",
    "for i in [1, 2, 3]:\n",
    "  plt.subplot(3, 1, i)\n",
    "  plt.legend(loc='upper center', ncol=4)\n",
    "plt.gcf().set_size_inches(15, 15)\n",
    "plt.show()\n",
    "# *****END OF YOUR CODE (DO NOT DELETE/MODIFY THIS LINE)*****\n",
    "################################################################################\n",
    "#                              END OF YOUR CODE                                #\n",
    "################################################################################"
   ]
  },
  {
   "cell_type": "markdown",
   "metadata": {
    "nbpresent": {
     "id": "1a851884-5215-4d9a-aa2a-50241829e6be"
    }
   },
   "source": [
    "# Test your model!\n",
    "Run your best model on the validation and test sets. You should achieve above 50% accuracy on the validation set."
   ]
  },
  {
   "cell_type": "code",
   "execution_count": null,
   "metadata": {
    "nbpresent": {
     "id": "e3d2d89f-09b4-4212-b657-cfc063c0795e"
    }
   },
   "outputs": [],
   "source": [
    "y_test_pred = np.argmax(best_model.loss(data['X_test']), axis=1)\n",
    "y_val_pred = np.argmax(best_model.loss(data['X_val']), axis=1)\n",
    "print('Validation set accuracy: ', (y_val_pred == data['y_val']).mean())\n",
    "print('Test set accuracy: ', (y_test_pred == data['y_test']).mean())"
   ]
  }
 ],
 "metadata": {
  "kernelspec": {
   "display_name": "Python 3",
   "language": "python",
   "name": "python3"
  },
  "language_info": {
   "codemirror_mode": {
    "name": "ipython",
    "version": 3
   },
   "file_extension": ".py",
   "mimetype": "text/x-python",
   "name": "python",
   "nbconvert_exporter": "python",
   "pygments_lexer": "ipython3",
   "version": "3.7.1"
  }
 },
 "nbformat": 4,
 "nbformat_minor": 2
}
